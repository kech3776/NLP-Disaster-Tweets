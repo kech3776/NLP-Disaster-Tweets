{
 "cells": [
  {
   "cell_type": "markdown",
   "id": "f5c78d74",
   "metadata": {},
   "source": [
    "# NLP Disaster Tweets Mini-Project"
   ]
  },
  {
   "cell_type": "markdown",
   "id": "4116b16b",
   "metadata": {},
   "source": [
    "## Introduction"
   ]
  },
  {
   "cell_type": "markdown",
   "id": "f4f50c7e",
   "metadata": {},
   "source": [
    "Twitter has become an important communication channel in times of emergency. The ubiquitousness of smartphones enables people to announce an emergency they’re observing in real-time. Because of this, more agencies are interested in programatically monitoring TwitterIn this mini-project, we are looking at Twitter tweets. Our goal is to be able to classify tweets to determine if a given tweet is about a real disaster or not. In this notebook we will be:\n",
    "1. Describing the challenge problem and dataset\n",
    "2. Doing Exploratory Data Analysis (EDA)\n",
    "3. Describing the Deep Learning Model Architecture\n",
    "4. Analyzing Results\n",
    "5. Talking about learnings and takeaways\n",
    "\n",
    "First, we'll import some of the import some of the common libraries we need such as numpy, pandas and tensorflow."
   ]
  },
  {
   "cell_type": "code",
   "execution_count": 6,
   "id": "21a830a8",
   "metadata": {},
   "outputs": [],
   "source": [
    "import numpy as np\n",
    "import pandas as pd\n",
    "import matplotlib.pyplot as plt\n",
    "import seaborn as sns\n",
    "import tensorflow as tf\n",
    "import keras"
   ]
  },
  {
   "cell_type": "markdown",
   "id": "8cf69cc4",
   "metadata": {},
   "source": [
    "## Dataset and the Problem"
   ]
  },
  {
   "cell_type": "markdown",
   "id": "1e21b950",
   "metadata": {},
   "source": [
    "Let's import the traning data. As seen below, there are 7613 tweets in the 'text column. The target column classifies the tweet as one about a disaster or not. A target of 1 means the tweet is about a disaster. A target of 0 means the tweet is not about a disaster. Our goal is to train deep learning models on the training data to be able to predect if a future tweet is about a real diaster or not. Included in the data are columns about the location of the tweet and any possible keywords. Not all tweets include keywords and/or a location. For this mini-project we will not be using the keyword or location column."
   ]
  },
  {
   "cell_type": "code",
   "execution_count": 187,
   "id": "f41be9c4",
   "metadata": {},
   "outputs": [],
   "source": [
    "train = pd.read_csv('https://raw.githubusercontent.com/kech3776/NLP-Disaster-Tweets/main/test.csv')"
   ]
  },
  {
   "cell_type": "code",
   "execution_count": 188,
   "id": "fa5eb7c9",
   "metadata": {},
   "outputs": [
    {
     "data": {
      "text/html": [
       "<div>\n",
       "<style scoped>\n",
       "    .dataframe tbody tr th:only-of-type {\n",
       "        vertical-align: middle;\n",
       "    }\n",
       "\n",
       "    .dataframe tbody tr th {\n",
       "        vertical-align: top;\n",
       "    }\n",
       "\n",
       "    .dataframe thead th {\n",
       "        text-align: right;\n",
       "    }\n",
       "</style>\n",
       "<table border=\"1\" class=\"dataframe\">\n",
       "  <thead>\n",
       "    <tr style=\"text-align: right;\">\n",
       "      <th></th>\n",
       "      <th>id</th>\n",
       "      <th>keyword</th>\n",
       "      <th>location</th>\n",
       "      <th>text</th>\n",
       "    </tr>\n",
       "  </thead>\n",
       "  <tbody>\n",
       "    <tr>\n",
       "      <th>0</th>\n",
       "      <td>0</td>\n",
       "      <td>NaN</td>\n",
       "      <td>NaN</td>\n",
       "      <td>Just happened a terrible car crash</td>\n",
       "    </tr>\n",
       "    <tr>\n",
       "      <th>1</th>\n",
       "      <td>2</td>\n",
       "      <td>NaN</td>\n",
       "      <td>NaN</td>\n",
       "      <td>Heard about #earthquake is different cities, s...</td>\n",
       "    </tr>\n",
       "    <tr>\n",
       "      <th>2</th>\n",
       "      <td>3</td>\n",
       "      <td>NaN</td>\n",
       "      <td>NaN</td>\n",
       "      <td>there is a forest fire at spot pond, geese are...</td>\n",
       "    </tr>\n",
       "    <tr>\n",
       "      <th>3</th>\n",
       "      <td>9</td>\n",
       "      <td>NaN</td>\n",
       "      <td>NaN</td>\n",
       "      <td>Apocalypse lighting. #Spokane #wildfires</td>\n",
       "    </tr>\n",
       "    <tr>\n",
       "      <th>4</th>\n",
       "      <td>11</td>\n",
       "      <td>NaN</td>\n",
       "      <td>NaN</td>\n",
       "      <td>Typhoon Soudelor kills 28 in China and Taiwan</td>\n",
       "    </tr>\n",
       "  </tbody>\n",
       "</table>\n",
       "</div>"
      ],
      "text/plain": [
       "   id keyword location                                               text\n",
       "0   0     NaN      NaN                 Just happened a terrible car crash\n",
       "1   2     NaN      NaN  Heard about #earthquake is different cities, s...\n",
       "2   3     NaN      NaN  there is a forest fire at spot pond, geese are...\n",
       "3   9     NaN      NaN           Apocalypse lighting. #Spokane #wildfires\n",
       "4  11     NaN      NaN      Typhoon Soudelor kills 28 in China and Taiwan"
      ]
     },
     "execution_count": 188,
     "metadata": {},
     "output_type": "execute_result"
    }
   ],
   "source": [
    "train.head()"
   ]
  },
  {
   "cell_type": "code",
   "execution_count": 9,
   "id": "a0f3db8b",
   "metadata": {},
   "outputs": [
    {
     "name": "stdout",
     "output_type": "stream",
     "text": [
      "<class 'pandas.core.frame.DataFrame'>\n",
      "RangeIndex: 7613 entries, 0 to 7612\n",
      "Data columns (total 5 columns):\n",
      " #   Column    Non-Null Count  Dtype \n",
      "---  ------    --------------  ----- \n",
      " 0   id        7613 non-null   int64 \n",
      " 1   keyword   7552 non-null   object\n",
      " 2   location  5080 non-null   object\n",
      " 3   text      7613 non-null   object\n",
      " 4   target    7613 non-null   int64 \n",
      "dtypes: int64(2), object(3)\n",
      "memory usage: 297.5+ KB\n"
     ]
    }
   ],
   "source": [
    "train.info()"
   ]
  },
  {
   "cell_type": "markdown",
   "id": "75b45c5b",
   "metadata": {},
   "source": [
    "## Exploratory Data Analysis"
   ]
  },
  {
   "cell_type": "markdown",
   "id": "19f3962b",
   "metadata": {},
   "source": [
    "### Initial Look"
   ]
  },
  {
   "cell_type": "markdown",
   "id": "5c909c82",
   "metadata": {},
   "source": [
    "Let's take a close look at the contents of the data. We see that of the 7613 tweets, there are 4342 tweets that are classified as not a disaster tweet and 3271 tweets that are classified as a disaster tweet. As a percentage, that is 57% that are not considered disaster tweets and 43% that are considered disaster tweets."
   ]
  },
  {
   "cell_type": "code",
   "execution_count": 10,
   "id": "69a50898",
   "metadata": {},
   "outputs": [
    {
     "data": {
      "text/plain": [
       "0    4342\n",
       "1    3271\n",
       "Name: target, dtype: int64"
      ]
     },
     "execution_count": 10,
     "metadata": {},
     "output_type": "execute_result"
    }
   ],
   "source": [
    "train['target'].value_counts()"
   ]
  },
  {
   "cell_type": "code",
   "execution_count": 11,
   "id": "811fc0db",
   "metadata": {},
   "outputs": [
    {
     "data": {
      "text/plain": [
       "[Text(0.5, 1.0, 'Target Counts')]"
      ]
     },
     "execution_count": 11,
     "metadata": {},
     "output_type": "execute_result"
    },
    {
     "data": {
      "image/png": "[encoded data removed]",
      "text/plain": [
       "<Figure size 640x480 with 1 Axes>"
      ]
     },
     "metadata": {},
     "output_type": "display_data"
    }
   ],
   "source": [
    "label = ['Not Disaster', 'Disaster']\n",
    "freq = [4342,3271]\n",
    "sns.barplot(x = label, y = freq).set(title = 'Target Counts')"
   ]
  },
  {
   "cell_type": "code",
   "execution_count": 12,
   "id": "3e2542d3",
   "metadata": {},
   "outputs": [
    {
     "data": {
      "image/png": "[encoded data removed]",
      "text/plain": [
       "<Figure size 640x480 with 1 Axes>"
      ]
     },
     "metadata": {},
     "output_type": "display_data"
    }
   ],
   "source": [
    "colors = sns.color_palette('bright')[0:5]\n",
    "plt.pie(freq, labels = label, colors = colors, autopct='%.0f%%')\n",
    "plt.show()"
   ]
  },
  {
   "cell_type": "markdown",
   "id": "588b6566",
   "metadata": {},
   "source": [
    "### Cleaning Data"
   ]
  },
  {
   "cell_type": "markdown",
   "id": "e8889084",
   "metadata": {},
   "source": [
    "We have now seen some of the preliminary data. Let's start to clean that data into something we can use. Below, we have a method that cleans the text data into something that we can use. For this process, we will be using the nltk library.\n",
    "The process goes:\n",
    "1. Remove any links in the tweet\n",
    "2. Make sure the tweet is all lowercase\n",
    "3. Remove all punctuation\n",
    "4. Tokenize the text\n",
    "5. Remove any numbers in the tweet\n",
    "6. Remove any stop words in the tweet\n",
    "7. Remove any non-ASCII characters\n",
    "8. Lemmatize any verbs still present to reduce the number of similar words i.e. fish, fishing, fished"
   ]
  },
  {
   "cell_type": "code",
   "execution_count": 13,
   "id": "05ba2579",
   "metadata": {},
   "outputs": [],
   "source": [
    "import string, re, unicodedata\n",
    "from nltk import word_tokenize\n",
    "from nltk.corpus import stopwords\n",
    "from nltk.stem import LancasterStemmer, WordNetLemmatizer\n",
    "\n",
    "def remove_non_ascii(words):\n",
    "    #Remove non-ASCII characters from list of tokenized words\n",
    "    new_words = []\n",
    "    for word in words:\n",
    "        new_word = unicodedata.normalize('NFKD', word).encode('ascii', 'ignore').decode('utf-8', 'ignore')\n",
    "        new_words.append(new_word)\n",
    "    return new_words\n",
    "\n",
    "def lemmatize_verbs(words):\n",
    "    #Lemmatize verbs in list of tokenized words\n",
    "    lemmatizer = WordNetLemmatizer()\n",
    "    lemmas = []\n",
    "    for word in words:\n",
    "        lemma = lemmatizer.lemmatize(word, pos='v')\n",
    "        lemmas.append(lemma)\n",
    "    return lemmas\n",
    "\n",
    "\n",
    "def clean_data(df, col):\n",
    "    df_set = []\n",
    "    df_set_length = []\n",
    "    for i in range(len(df)):\n",
    "        text = df[col][i]\n",
    "        text = re.sub(r\"http\\S+\", \"\", text)  #remove links\n",
    "        text = text.lower() #make words all lowercase\n",
    "        text_p = \"\".join([char for char in text if char not in string.punctuation]) #remove punctuation\n",
    "        words = word_tokenize(text_p) #tokenize \n",
    "        words = [word for word in words if word.isalpha()] #remove numbers\n",
    "        stop_words = stopwords.words('english') \n",
    "        filtered_words = [word for word in words if word not in stop_words] #remove stopwords\n",
    "        filtered_words = remove_non_ascii(filtered_words) # Remove any non-ASCII characters\n",
    "        stemmed = lemmatize_verbs(filtered_words) # Lemmatize verbs\n",
    "        \n",
    "        df_set.append(stemmed)\n",
    "        df_set_length.append(len(stemmed))\n",
    "    df['Tokenized'] = df_set\n",
    "    df['SetLength'] = df_set_length\n",
    "    return df"
   ]
  },
  {
   "cell_type": "code",
   "execution_count": 15,
   "id": "4506b194",
   "metadata": {},
   "outputs": [
    {
     "data": {
      "text/html": [
       "<div>\n",
       "<style scoped>\n",
       "    .dataframe tbody tr th:only-of-type {\n",
       "        vertical-align: middle;\n",
       "    }\n",
       "\n",
       "    .dataframe tbody tr th {\n",
       "        vertical-align: top;\n",
       "    }\n",
       "\n",
       "    .dataframe thead th {\n",
       "        text-align: right;\n",
       "    }\n",
       "</style>\n",
       "<table border=\"1\" class=\"dataframe\">\n",
       "  <thead>\n",
       "    <tr style=\"text-align: right;\">\n",
       "      <th></th>\n",
       "      <th>id</th>\n",
       "      <th>text</th>\n",
       "      <th>target</th>\n",
       "      <th>Tokenized</th>\n",
       "      <th>SetLength</th>\n",
       "    </tr>\n",
       "  </thead>\n",
       "  <tbody>\n",
       "    <tr>\n",
       "      <th>0</th>\n",
       "      <td>1</td>\n",
       "      <td>Our Deeds are the Reason of this #earthquake M...</td>\n",
       "      <td>1</td>\n",
       "      <td>[deeds, reason, earthquake, may, allah, forgiv...</td>\n",
       "      <td>7</td>\n",
       "    </tr>\n",
       "    <tr>\n",
       "      <th>1</th>\n",
       "      <td>4</td>\n",
       "      <td>Forest fire near La Ronge Sask. Canada</td>\n",
       "      <td>1</td>\n",
       "      <td>[forest, fire, near, la, ronge, sask, canada]</td>\n",
       "      <td>7</td>\n",
       "    </tr>\n",
       "    <tr>\n",
       "      <th>2</th>\n",
       "      <td>5</td>\n",
       "      <td>All residents asked to 'shelter in place' are ...</td>\n",
       "      <td>1</td>\n",
       "      <td>[residents, ask, shelter, place, notify, offic...</td>\n",
       "      <td>11</td>\n",
       "    </tr>\n",
       "    <tr>\n",
       "      <th>3</th>\n",
       "      <td>6</td>\n",
       "      <td>13,000 people receive #wildfires evacuation or...</td>\n",
       "      <td>1</td>\n",
       "      <td>[people, receive, wildfires, evacuation, order...</td>\n",
       "      <td>6</td>\n",
       "    </tr>\n",
       "    <tr>\n",
       "      <th>4</th>\n",
       "      <td>7</td>\n",
       "      <td>Just got sent this photo from Ruby #Alaska as ...</td>\n",
       "      <td>1</td>\n",
       "      <td>[get, send, photo, ruby, alaska, smoke, wildfi...</td>\n",
       "      <td>9</td>\n",
       "    </tr>\n",
       "  </tbody>\n",
       "</table>\n",
       "</div>"
      ],
      "text/plain": [
       "   id                                               text  target  \\\n",
       "0   1  Our Deeds are the Reason of this #earthquake M...       1   \n",
       "1   4             Forest fire near La Ronge Sask. Canada       1   \n",
       "2   5  All residents asked to 'shelter in place' are ...       1   \n",
       "3   6  13,000 people receive #wildfires evacuation or...       1   \n",
       "4   7  Just got sent this photo from Ruby #Alaska as ...       1   \n",
       "\n",
       "                                           Tokenized  SetLength  \n",
       "0  [deeds, reason, earthquake, may, allah, forgiv...          7  \n",
       "1      [forest, fire, near, la, ronge, sask, canada]          7  \n",
       "2  [residents, ask, shelter, place, notify, offic...         11  \n",
       "3  [people, receive, wildfires, evacuation, order...          6  \n",
       "4  [get, send, photo, ruby, alaska, smoke, wildfi...          9  "
      ]
     },
     "execution_count": 15,
     "metadata": {},
     "output_type": "execute_result"
    }
   ],
   "source": [
    "train_clean = clean_data(train, 'text')\n",
    "train_clean = train_clean.drop(columns = ['keyword', 'location'])\n",
    "train_clean.head()"
   ]
  },
  {
   "cell_type": "markdown",
   "id": "c877d0f7",
   "metadata": {},
   "source": [
    "Here is an example of a tweet before it has been cleaned and after it has been cleaned."
   ]
  },
  {
   "cell_type": "code",
   "execution_count": 16,
   "id": "adf39581",
   "metadata": {},
   "outputs": [
    {
     "name": "stdout",
     "output_type": "stream",
     "text": [
      "HOBO Hobo Vintage Shira Convertible BÛ_ $238.00 #bestseller http://t.co/0LLwuqn8vg\n",
      "['hobo', 'hobo', 'vintage', 'shira', 'convertible', 'bestseller']\n"
     ]
    }
   ],
   "source": [
    "print(train_clean['text'][1020])\n",
    "print(train_clean['Tokenized'][1020])"
   ]
  },
  {
   "cell_type": "markdown",
   "id": "20c05651",
   "metadata": {},
   "source": [
    "### More Tweet Distribution Insights"
   ]
  },
  {
   "cell_type": "markdown",
   "id": "a430f5ec",
   "metadata": {},
   "source": [
    "Now let's look at the lengths of the tokenized tweets. We see that the median of the dataset is 9 words the tweet with the highest number of words is 23. As for the histogram, the distribution of lengths looks to be mostly normal with a slight right skew."
   ]
  },
  {
   "cell_type": "code",
   "execution_count": 23,
   "id": "ac4083da",
   "metadata": {},
   "outputs": [
    {
     "name": "stdout",
     "output_type": "stream",
     "text": [
      "median 9.0\n",
      "max: 23\n"
     ]
    }
   ],
   "source": [
    "print('median', train_clean['SetLength'].median())\n",
    "print('max:', train_clean['SetLength'].max())"
   ]
  },
  {
   "cell_type": "code",
   "execution_count": 24,
   "id": "b0d51830",
   "metadata": {},
   "outputs": [
    {
     "data": {
      "text/plain": [
       "<AxesSubplot: xlabel='SetLength', ylabel='Count'>"
      ]
     },
     "execution_count": 24,
     "metadata": {},
     "output_type": "execute_result"
    },
    {
     "data": {
      "image/png": "[encoded data removed]",
      "text/plain": [
       "<Figure size 640x480 with 1 Axes>"
      ]
     },
     "metadata": {},
     "output_type": "display_data"
    }
   ],
   "source": [
    "sns.histplot(data = train_clean, x = 'SetLength', binwidth = 1)"
   ]
  },
  {
   "cell_type": "markdown",
   "id": "d58d4e66",
   "metadata": {},
   "source": [
    "We can also look at the frequency of any words that are used. Below, we see that there are 14229 unique words that are used from all of the tweets. The five most common are 'get', 'like', 'fire', 'im' and 'amp'. "
   ]
  },
  {
   "cell_type": "code",
   "execution_count": 30,
   "id": "e7c68654",
   "metadata": {},
   "outputs": [
    {
     "name": "stdout",
     "output_type": "stream",
     "text": [
      "14229\n",
      "[('get', 440), ('like', 392), ('fire', 357), ('im', 299), ('amp', 298)]\n"
     ]
    }
   ],
   "source": [
    "from collections import Counter\n",
    "\n",
    "def count_words(df):\n",
    "    count = Counter()\n",
    "    for text in df['Tokenized'].values:\n",
    "        for word in text:\n",
    "            count[word] += 1\n",
    "    return count\n",
    "\n",
    "word_freq = count_words(train_clean)\n",
    "print(len(word_freq))\n",
    "print(word_freq.most_common(5))"
   ]
  },
  {
   "cell_type": "markdown",
   "id": "62c067dc",
   "metadata": {},
   "source": [
    "We now know some of the most frequent words used in these tweets but what are the most common words used for tweets depending on if the tweet is about a real disaster or not?"
   ]
  },
  {
   "cell_type": "code",
   "execution_count": 44,
   "id": "d5dd52a2",
   "metadata": {},
   "outputs": [
    {
     "name": "stdout",
     "output_type": "stream",
     "text": [
      "Disaster\n",
      "7423\n"
     ]
    },
    {
     "data": {
      "text/plain": [
       "[Text(0.5, 1.0, 'Disaster')]"
      ]
     },
     "execution_count": 44,
     "metadata": {},
     "output_type": "execute_result"
    },
    {
     "data": {
      "image/png": "[encoded data removed]",
      "text/plain": [
       "<Figure size 640x480 with 1 Axes>"
      ]
     },
     "metadata": {},
     "output_type": "display_data"
    }
   ],
   "source": [
    "disaster = train_clean[train_clean['target'] == 1]\n",
    "no_disaster = train_clean[train_clean['target'] == 0]\n",
    "\n",
    "disaster_freq = count_words(disaster)\n",
    "no_disaster_freq = count_words(no_disaster)\n",
    "\n",
    "print('Disaster')\n",
    "print(len(disaster_freq))\n",
    "most_freq_disaster = disaster_freq.most_common(10)\n",
    "most_freq_disaster = pd.DataFrame(most_freq_disaster, columns = ['word', 'frequency'])\n",
    "sns.barplot(data = most_freq_disaster, y = most_freq_disaster['word'], \n",
    "            x = most_freq_disaster['frequency'], errorbar = None ).set(title = 'Disaster')\n",
    "\n"
   ]
  },
  {
   "cell_type": "code",
   "execution_count": 46,
   "id": "13f0dec0",
   "metadata": {},
   "outputs": [
    {
     "name": "stdout",
     "output_type": "stream",
     "text": [
      "Not Disaster\n",
      "10136\n"
     ]
    },
    {
     "data": {
      "text/plain": [
       "[Text(0.5, 1.0, 'Not Disaster')]"
      ]
     },
     "execution_count": 46,
     "metadata": {},
     "output_type": "execute_result"
    },
    {
     "data": {
      "image/png": "[encoded data removed]",
      "text/plain": [
       "<Figure size 640x480 with 1 Axes>"
      ]
     },
     "metadata": {},
     "output_type": "display_data"
    }
   ],
   "source": [
    "print('Not Disaster')\n",
    "print(len(no_disaster_freq))\n",
    "most_freq_no_disaster = no_disaster_freq.most_common(10)\n",
    "most_freq_no_disaster = pd.DataFrame(most_freq_no_disaster, columns = ['word', 'frequency'])\n",
    "sns.barplot(data = most_freq_no_disaster, y = most_freq_no_disaster['word'], \n",
    "            x = most_freq_no_disaster['frequency'], errorbar = None ).set(title = 'Not Disaster')"
   ]
  },
  {
   "cell_type": "markdown",
   "id": "56729bdf",
   "metadata": {},
   "source": [
    "From the charts above, we see that get is the most common in tweets that are not disaster tweets. However, they are also top 5 in frequency in disaster tweets. The tweets that are disaster tweets have some obvious terms such as fire, bomb, kill and flood. Interstingly enough 'california' ranks in the top 10. It might be that California has had a fair share of natural disasters. The top words for tweets that aren't about disasters don't seem to have any pattern  going on. The terms look like generic terms such as go, new, don't, and like."
   ]
  },
  {
   "cell_type": "markdown",
   "id": "91c08582",
   "metadata": {},
   "source": [
    "## Deep Learning Model Architecture"
   ]
  },
  {
   "cell_type": "markdown",
   "id": "781b4c42",
   "metadata": {},
   "source": [
    "Now we transform the list of words into numbers so the deep learning model can use that data. First, we will split the data into a training dataset and a validation dataset. The training dataset will contain 80% of the original dataset and the validation dataset will contain the other 20%."
   ]
  },
  {
   "cell_type": "code",
   "execution_count": 48,
   "id": "4c0c5fa3",
   "metadata": {},
   "outputs": [
    {
     "name": "stdout",
     "output_type": "stream",
     "text": [
      "(6090,) (6090,)\n",
      "(1523,) (1523,)\n"
     ]
    }
   ],
   "source": [
    "from sklearn.model_selection import train_test_split\n",
    "X = train_clean['Tokenized'].to_numpy()\n",
    "y = train_clean['target'].to_numpy()\n",
    "\n",
    "X_train, X_val, y_train, y_val = train_test_split(X,y, test_size = 0.2, random_state = 101)\n",
    "\n",
    "print(X_train.shape, y_train.shape)\n",
    "print(X_val.shape, y_val.shape)"
   ]
  },
  {
   "cell_type": "markdown",
   "id": "9556c088",
   "metadata": {},
   "source": [
    "Next, we will use Tokenizer from the keras library to create a dictionary of all the unique words. Each unique word will be assigned a number. Below, you can see that 'get' is assigned to 1, 'like' is assigned to 2 and so on. "
   ]
  },
  {
   "cell_type": "code",
   "execution_count": 49,
   "id": "8e64b76a",
   "metadata": {},
   "outputs": [],
   "source": [
    "from tensorflow.keras.preprocessing.text import Tokenizer\n",
    "\n",
    "tokenizer = Tokenizer(num_words = len(word_freq))\n",
    "tokenizer.fit_on_texts(X_train)"
   ]
  },
  {
   "cell_type": "code",
   "execution_count": 128,
   "id": "688271d1",
   "metadata": {},
   "outputs": [
    {
     "name": "stdout",
     "output_type": "stream",
     "text": [
      "12352\n"
     ]
    },
    {
     "data": {
      "text/plain": [
       "{'get': 1,\n",
       " 'like': 2,\n",
       " 'fire': 3,\n",
       " 'amp': 4,\n",
       " 'im': 5,\n",
       " 'go': 6,\n",
       " 'bomb': 7,\n",
       " 'new': 8,\n",
       " 'via': 9,\n",
       " 'one': 10}"
      ]
     },
     "execution_count": 128,
     "metadata": {},
     "output_type": "execute_result"
    }
   ],
   "source": [
    "import itertools\n",
    "print(len(tokenizer.word_index))\n",
    "dict(itertools.islice(tokenizer.word_index.items(), 10))"
   ]
  },
  {
   "cell_type": "markdown",
   "id": "d1e051e2",
   "metadata": {},
   "source": [
    "Using the dictionary will give us the tweets in number form. An example of a tweet is shown below as words and as numbers"
   ]
  },
  {
   "cell_type": "code",
   "execution_count": 58,
   "id": "081b67c4",
   "metadata": {},
   "outputs": [],
   "source": [
    "X_train_seq = tokenizer.texts_to_sequences(X_train)\n",
    "X_val_seq = tokenizer.texts_to_sequences(X_val)"
   ]
  },
  {
   "cell_type": "code",
   "execution_count": 64,
   "id": "5f895225",
   "metadata": {},
   "outputs": [
    {
     "name": "stdout",
     "output_type": "stream",
     "text": [
      "['steve', 'fire', 'something', 'else', 'california', 'tinderbox', 'clown', 'set', 'hood', 'ablaze']\n",
      "[1949, 3, 337, 754, 44, 7206, 3938, 128, 3860, 464]\n"
     ]
    }
   ],
   "source": [
    "print(X_train[2000])\n",
    "print(X_train_seq[2000])"
   ]
  },
  {
   "cell_type": "markdown",
   "id": "601124d5",
   "metadata": {},
   "source": [
    "When processing sequence data, it is very common for individual samples to have different lengths. However, the input data for a deep learning model must be a single tensor. Tweets that are shorter than the longest item need to be padded with some placeholder value. The longest tweet is 23 words so we will add padding to the end of all tweets that have under 23 words. Another example is shown below before padding and after padding."
   ]
  },
  {
   "cell_type": "code",
   "execution_count": 66,
   "id": "2379eb19",
   "metadata": {},
   "outputs": [
    {
     "name": "stdout",
     "output_type": "stream",
     "text": [
      "(6090, 23) (1523, 23)\n"
     ]
    }
   ],
   "source": [
    "from tensorflow.keras.preprocessing.sequence import pad_sequences\n",
    "\n",
    "X_train_padded = pad_sequences(X_train_seq, maxlen = 23, padding = \"post\", truncating = \"post\")\n",
    "X_val_padded = pad_sequences(X_val_seq, maxlen = 23, padding = \"post\", truncating = \"post\")\n",
    "print(X_train_padded.shape, X_val_padded.shape)"
   ]
  },
  {
   "cell_type": "code",
   "execution_count": 70,
   "id": "cad8404e",
   "metadata": {},
   "outputs": [
    {
     "name": "stdout",
     "output_type": "stream",
     "text": [
      "unpadded [4703, 4704, 3156, 178, 171, 3]\n",
      "padded [4703 4704 3156  178  171    3    0    0    0    0    0    0    0    0\n",
      "    0    0    0    0    0    0    0    0    0]\n"
     ]
    }
   ],
   "source": [
    "print('unpadded', X_train_seq[56])\n",
    "print('padded', X_train_padded[56])"
   ]
  },
  {
   "cell_type": "markdown",
   "id": "773c53c0",
   "metadata": {},
   "source": [
    "### LSTM Model"
   ]
  },
  {
   "cell_type": "markdown",
   "id": "ebd0e8b2",
   "metadata": {},
   "source": [
    "The first model we will be creating will be the LSTM model. LSTM is a Long-Short Term Memory model which is a type of Recurrent Neural Network. LSTM is made up of three gates which are the input gate, forget gate and output gate. A LSTM model works well with the the data we have since the neural network has \"memory\" can past data can influence future decision making. In this case, words in the beginning of the tweet influence words from later on in the tweet. \n",
    "\n",
    "For this LSTM model, I started with an Embedding layer. The Embedding layer is to help the neural netword understand the inputs given. The length of tokenizer.word_index is all the possible words that can appear while the imput length is the length of each tweet with padding. A bidirectional LSTM layer is added afterwards. Since order matters in a tweet, a bidirectional LSTM layer works better than just an LSTM layer. Finally, there is a Dense layer with a sigmoid activation to determine if yes the tweet is about a disaster or not it is not about a disaster.\n",
    "\n",
    "In this model, overfitting seemed to be a major problem. As seen in the charts below, both the validation loss and validation accuracy plateaued while the training accuracy and loss continued to increase. It's not unusual for NLP models to have problems with overfitting since there are a myriad of possible words that are used. Some of the hyperparameter modifications that were effective were to add a dropout after the LSTM layer and reducing the learning rate. Other methods that were helpful were to reduce the number of layers. Having the bare minimum of layers helped against overfitting. Finally, having an early stopping callback helped the model end early if the validation loss began to creep up. In this model, we can see that the training stopped at 8 epochs even though the model was set fo 10 epochs. One surprising thing that did not work was adding a recurring dropout to the LSTM layer. It not only made training a lot slower, but it did not help in reducing overfitting not did it increase the validation accuracy."
   ]
  },
  {
   "cell_type": "code",
   "execution_count": 182,
   "id": "4d4d3b6f",
   "metadata": {},
   "outputs": [
    {
     "name": "stdout",
     "output_type": "stream",
     "text": [
      "Model: \"sequential_21\"\n",
      "_________________________________________________________________\n",
      "Layer (type)                 Output Shape              Param #   \n",
      "=================================================================\n",
      "embedding_21 (Embedding)     (None, 23, 32)            395264    \n",
      "_________________________________________________________________\n",
      "bidirectional_21 (Bidirectio (None, 46)                10304     \n",
      "_________________________________________________________________\n",
      "dense_23 (Dense)             (None, 1)                 47        \n",
      "=================================================================\n",
      "Total params: 405,615\n",
      "Trainable params: 405,615\n",
      "Non-trainable params: 0\n",
      "_________________________________________________________________\n"
     ]
    }
   ],
   "source": [
    "import keras\n",
    "from keras import layers\n",
    "\n",
    "lstm_model = keras.models.Sequential()\n",
    "lstm_model.add(layers.Embedding(len(tokenizer.word_index),32,input_length = 23))\n",
    "lstm_model.add(layers.Bidirectional(layers.LSTM(23, dropout = 0.2)))\n",
    "lstm_model.add(layers.Dense(1, activation = \"sigmoid\"))\n",
    "\n",
    "opt = tf.keras.optimizers.Adam(learning_rate = 0.0001)\n",
    "\n",
    "lstm_model.compile(loss = \"binary_crossentropy\", optimizer = opt, metrics = [\"accuracy\"])\n",
    "\n",
    "lstm_model.summary()"
   ]
  },
  {
   "cell_type": "code",
   "execution_count": 183,
   "id": "ff930417",
   "metadata": {},
   "outputs": [
    {
     "name": "stdout",
     "output_type": "stream",
     "text": [
      "Epoch 1/10\n",
      "191/191 [==============================] - 8s 15ms/step - loss: 0.6884 - accuracy: 0.5389 - val_loss: 0.6772 - val_accuracy: 0.5857\n",
      "Epoch 2/10\n",
      "191/191 [==============================] - 2s 11ms/step - loss: 0.6753 - accuracy: 0.5665 - val_loss: 0.6627 - val_accuracy: 0.5857\n",
      "Epoch 3/10\n",
      "191/191 [==============================] - 2s 10ms/step - loss: 0.6497 - accuracy: 0.5821 - val_loss: 0.6258 - val_accuracy: 0.6323\n",
      "Epoch 4/10\n",
      "191/191 [==============================] - 2s 10ms/step - loss: 0.5680 - accuracy: 0.7158 - val_loss: 0.5098 - val_accuracy: 0.7597\n",
      "Epoch 5/10\n",
      "191/191 [==============================] - 2s 10ms/step - loss: 0.3711 - accuracy: 0.8466 - val_loss: 0.4685 - val_accuracy: 0.7945\n",
      "Epoch 6/10\n",
      "191/191 [==============================] - 2s 11ms/step - loss: 0.2850 - accuracy: 0.8874 - val_loss: 0.4827 - val_accuracy: 0.7905\n",
      "Epoch 7/10\n",
      "191/191 [==============================] - 2s 10ms/step - loss: 0.2348 - accuracy: 0.9120 - val_loss: 0.5046 - val_accuracy: 0.7794\n",
      "Epoch 8/10\n",
      "191/191 [==============================] - 2s 10ms/step - loss: 0.1995 - accuracy: 0.9286 - val_loss: 0.5332 - val_accuracy: 0.7774\n"
     ]
    }
   ],
   "source": [
    "epoch = 10\n",
    "\n",
    "es_callback = keras.callbacks.EarlyStopping(monitor='val_loss', patience=3)\n",
    "run_model_lstm = lstm_model.fit(X_train_padded, y_train, epochs = epoch, \n",
    "                                validation_data = (X_val_padded, y_val), verbose = 1, \n",
    "                                callbacks = [es_callback])"
   ]
  },
  {
   "cell_type": "markdown",
   "id": "4ec1be1a",
   "metadata": {},
   "source": [
    "After training the model, we get an training accuracy of 0.9286 and a validation accuracy of 0.7774. With a training loss of 0.1995 and a validation loss of 0.5332. Now let's look at the accuracy and loss by epoch."
   ]
  },
  {
   "cell_type": "code",
   "execution_count": 184,
   "id": "d1a00926",
   "metadata": {},
   "outputs": [],
   "source": [
    "#organize accuracy and loss data into a dataframe\n",
    "epoch_lst = list(range(1, epoch + 1))\n",
    "accuracy = pd.DataFrame(list(zip(epoch_lst, run_model_lstm.history['accuracy'],\n",
    "                        run_model_lstm.history['val_accuracy'])),\n",
    "                        columns = ['Epoch','Accuracy', 'Val_Accuracy'])\n",
    "loss = pd.DataFrame(list(zip(epoch_lst, run_model_lstm.history['loss'],\n",
    "                        run_model_lstm.history['val_loss'])),\n",
    "                        columns = ['Epoch','Loss', 'Val_Loss'])"
   ]
  },
  {
   "cell_type": "code",
   "execution_count": 185,
   "id": "93bb4b65",
   "metadata": {},
   "outputs": [
    {
     "data": {
      "text/plain": [
       "<matplotlib.legend.Legend at 0x17147b17310>"
      ]
     },
     "execution_count": 185,
     "metadata": {},
     "output_type": "execute_result"
    },
    {
     "data": {
      "image/png": "[encoded data removed]",
      "text/plain": [
       "<Figure size 1200x500 with 2 Axes>"
      ]
     },
     "metadata": {},
     "output_type": "display_data"
    }
   ],
   "source": [
    "fig, (ax1, ax2) = plt.subplots(1,2, figsize = (12,5))\n",
    "\n",
    "ax1.plot(accuracy['Epoch'],accuracy['Accuracy'])\n",
    "ax1.plot(accuracy['Epoch'],accuracy['Val_Accuracy'])\n",
    "ax1.legend(['Accuracy', 'Val_Accuracy'])\n",
    "\n",
    "ax2.plot(loss['Epoch'], loss['Loss'])\n",
    "ax2.plot(loss['Epoch'], loss['Val_Loss'])\n",
    "ax2.legend(['Loss', 'Val_Loss'])"
   ]
  },
  {
   "cell_type": "markdown",
   "id": "c7de7bb3",
   "metadata": {},
   "source": [
    "### GRU Model"
   ]
  },
  {
   "cell_type": "markdown",
   "id": "1eb50edc",
   "metadata": {},
   "source": [
    "The second model we will use is the GRU model. The GRU model is similar to the LSTM model but has one less gate. It contains an update gate and a reset gate. The update gate acts similarly to the forget and imput gate of an LSTM which decides which imformation to keep and forget. The reset gate decides how much information to forget.\n",
    "\n",
    "Like the LSTM model, there is an Embidding layer to help the neural netword understand the inputs given since the input is the same as the prior model. Next there is a bidirectional GRU layer followed by a Dense layer with a sigmoid activation. A bidirectional GRU layer works well the same reason as why a bidirectional LSTM model worked well above.\n",
    "\n",
    "For the GRU model, I experienced much of the same problems with overfitting. Having a dropout and reducing the learning rate helped. Keeping the model simple with minimal layers also helped reduce overfitting. Adding multiple GRU layers did not help much in increasing validation accuracy but increased validation loss. Even though there was overfitting, looking at the loss chart, we see that there is less overfitting in the GRU model than the LSTM model."
   ]
  },
  {
   "cell_type": "code",
   "execution_count": 138,
   "id": "ff4502be",
   "metadata": {},
   "outputs": [
    {
     "name": "stdout",
     "output_type": "stream",
     "text": [
      "Model: \"sequential_13\"\n",
      "_________________________________________________________________\n",
      "Layer (type)                 Output Shape              Param #   \n",
      "=================================================================\n",
      "embedding_13 (Embedding)     (None, 23, 32)            395264    \n",
      "_________________________________________________________________\n",
      "bidirectional_13 (Bidirectio (None, 46)                7866      \n",
      "_________________________________________________________________\n",
      "dense_15 (Dense)             (None, 1)                 47        \n",
      "=================================================================\n",
      "Total params: 403,177\n",
      "Trainable params: 403,177\n",
      "Non-trainable params: 0\n",
      "_________________________________________________________________\n"
     ]
    }
   ],
   "source": [
    "gru_model = keras.models.Sequential()\n",
    "gru_model.add(layers.Embedding(len(tokenizer.word_index),32,input_length = 23))\n",
    "gru_model.add(layers.Bidirectional(layers.GRU(23, dropout = 0.2)))\n",
    "gru_model.add(layers.Dense(1, activation = \"sigmoid\"))\n",
    "\n",
    "opt = tf.keras.optimizers.Adam(learning_rate = 0.0001)\n",
    "\n",
    "gru_model.compile(loss = \"binary_crossentropy\", optimizer = opt, metrics = [\"accuracy\"])\n",
    "gru_model.summary()"
   ]
  },
  {
   "cell_type": "code",
   "execution_count": 139,
   "id": "4e9dbd66",
   "metadata": {},
   "outputs": [
    {
     "name": "stdout",
     "output_type": "stream",
     "text": [
      "Epoch 1/10\n",
      "191/191 [==============================] - 6s 14ms/step - loss: 0.6879 - accuracy: 0.5581 - val_loss: 0.6796 - val_accuracy: 0.5857\n",
      "Epoch 2/10\n",
      "191/191 [==============================] - 2s 10ms/step - loss: 0.6786 - accuracy: 0.5665 - val_loss: 0.6686 - val_accuracy: 0.5857\n",
      "Epoch 3/10\n",
      "191/191 [==============================] - 2s 9ms/step - loss: 0.6578 - accuracy: 0.5729 - val_loss: 0.6302 - val_accuracy: 0.6139\n",
      "Epoch 4/10\n",
      "191/191 [==============================] - 2s 10ms/step - loss: 0.5735 - accuracy: 0.7046 - val_loss: 0.5370 - val_accuracy: 0.7334\n",
      "Epoch 5/10\n",
      "191/191 [==============================] - 2s 10ms/step - loss: 0.4477 - accuracy: 0.8309 - val_loss: 0.4799 - val_accuracy: 0.7781\n",
      "Epoch 6/10\n",
      "191/191 [==============================] - 2s 9ms/step - loss: 0.3630 - accuracy: 0.8649 - val_loss: 0.4680 - val_accuracy: 0.7820\n",
      "Epoch 7/10\n",
      "191/191 [==============================] - 2s 10ms/step - loss: 0.3147 - accuracy: 0.8821 - val_loss: 0.4829 - val_accuracy: 0.7859\n",
      "Epoch 8/10\n",
      "191/191 [==============================] - 2s 10ms/step - loss: 0.2744 - accuracy: 0.8949 - val_loss: 0.4793 - val_accuracy: 0.7859\n",
      "Epoch 9/10\n",
      "191/191 [==============================] - 2s 9ms/step - loss: 0.2426 - accuracy: 0.9095 - val_loss: 0.4914 - val_accuracy: 0.7814\n",
      "Epoch 10/10\n",
      "191/191 [==============================] - 2s 9ms/step - loss: 0.2168 - accuracy: 0.9179 - val_loss: 0.5081 - val_accuracy: 0.7814\n"
     ]
    }
   ],
   "source": [
    "epoch = 10 \n",
    "run_model_gru = gru_model.fit(X_train_padded, y_train, epochs = epoch, \n",
    "                              validation_data = (X_val_padded, y_val), verbose = 1)"
   ]
  },
  {
   "cell_type": "markdown",
   "id": "91812555",
   "metadata": {},
   "source": [
    "After training the model, we get an training accuracy of 0.9179 and a validation accuracy of 0.7814. With a training loss of 0.2168 and a validation loss of 0.5081. Now let's look at the accuracy and loss by epoch."
   ]
  },
  {
   "cell_type": "code",
   "execution_count": 178,
   "id": "9e24a5f9",
   "metadata": {},
   "outputs": [],
   "source": [
    "#organize accuracy and loss data into a dataframe\n",
    "epoch_lst = list(range(1, epoch + 1))\n",
    "accuracy = pd.DataFrame(list(zip(epoch_lst, run_model_gru.history['accuracy'],\n",
    "                        run_model_gru.history['val_accuracy'])),\n",
    "                        columns = ['Epoch','Accuracy', 'Val_Accuracy'])\n",
    "loss = pd.DataFrame(list(zip(epoch_lst, run_model_gru.history['loss'],\n",
    "                        run_model_gru.history['val_loss'])),\n",
    "                        columns = ['Epoch','Loss', 'Val_Loss'])"
   ]
  },
  {
   "cell_type": "code",
   "execution_count": 179,
   "id": "0997806c",
   "metadata": {},
   "outputs": [
    {
     "data": {
      "text/plain": [
       "<matplotlib.legend.Legend at 0x170faa38610>"
      ]
     },
     "execution_count": 179,
     "metadata": {},
     "output_type": "execute_result"
    },
    {
     "data": {
      "image/png": "[encoded data removed]",
      "text/plain": [
       "<Figure size 1200x500 with 2 Axes>"
      ]
     },
     "metadata": {},
     "output_type": "display_data"
    }
   ],
   "source": [
    "fig, (ax1, ax2) = plt.subplots(1,2, figsize = (12,5))\n",
    "\n",
    "ax1.plot(accuracy['Epoch'],accuracy['Accuracy'])\n",
    "ax1.plot(accuracy['Epoch'],accuracy['Val_Accuracy'])\n",
    "ax1.legend(['Accuracy', 'Val_Accuracy'])\n",
    "\n",
    "ax2.plot(loss['Epoch'], loss['Loss'])\n",
    "ax2.plot(loss['Epoch'], loss['Val_Loss'])\n",
    "ax2.legend(['Loss', 'Val_Loss'])"
   ]
  },
  {
   "cell_type": "markdown",
   "id": "490e3363",
   "metadata": {},
   "source": [
    "### Predicting the Test Dataset"
   ]
  },
  {
   "cell_type": "markdown",
   "id": "716aaaef",
   "metadata": {},
   "source": [
    "Now that we have our models trained, we can use them to predict whether tweets are about a disaster or not. After importing the test dataset, it goes through the same cleaning and processing as the training dataset. In the end, we get a padded list of all the tweets. Those padded lists are fed into the prediction model to predict if the tweets in the test dataset are about disasters or not."
   ]
  },
  {
   "cell_type": "code",
   "execution_count": 189,
   "id": "d1ba8243",
   "metadata": {},
   "outputs": [
    {
     "data": {
      "text/html": [
       "<div>\n",
       "<style scoped>\n",
       "    .dataframe tbody tr th:only-of-type {\n",
       "        vertical-align: middle;\n",
       "    }\n",
       "\n",
       "    .dataframe tbody tr th {\n",
       "        vertical-align: top;\n",
       "    }\n",
       "\n",
       "    .dataframe thead th {\n",
       "        text-align: right;\n",
       "    }\n",
       "</style>\n",
       "<table border=\"1\" class=\"dataframe\">\n",
       "  <thead>\n",
       "    <tr style=\"text-align: right;\">\n",
       "      <th></th>\n",
       "      <th>id</th>\n",
       "      <th>keyword</th>\n",
       "      <th>location</th>\n",
       "      <th>text</th>\n",
       "      <th>target</th>\n",
       "    </tr>\n",
       "  </thead>\n",
       "  <tbody>\n",
       "    <tr>\n",
       "      <th>0</th>\n",
       "      <td>1</td>\n",
       "      <td>NaN</td>\n",
       "      <td>NaN</td>\n",
       "      <td>Our Deeds are the Reason of this #earthquake M...</td>\n",
       "      <td>1</td>\n",
       "    </tr>\n",
       "    <tr>\n",
       "      <th>1</th>\n",
       "      <td>4</td>\n",
       "      <td>NaN</td>\n",
       "      <td>NaN</td>\n",
       "      <td>Forest fire near La Ronge Sask. Canada</td>\n",
       "      <td>1</td>\n",
       "    </tr>\n",
       "    <tr>\n",
       "      <th>2</th>\n",
       "      <td>5</td>\n",
       "      <td>NaN</td>\n",
       "      <td>NaN</td>\n",
       "      <td>All residents asked to 'shelter in place' are ...</td>\n",
       "      <td>1</td>\n",
       "    </tr>\n",
       "    <tr>\n",
       "      <th>3</th>\n",
       "      <td>6</td>\n",
       "      <td>NaN</td>\n",
       "      <td>NaN</td>\n",
       "      <td>13,000 people receive #wildfires evacuation or...</td>\n",
       "      <td>1</td>\n",
       "    </tr>\n",
       "    <tr>\n",
       "      <th>4</th>\n",
       "      <td>7</td>\n",
       "      <td>NaN</td>\n",
       "      <td>NaN</td>\n",
       "      <td>Just got sent this photo from Ruby #Alaska as ...</td>\n",
       "      <td>1</td>\n",
       "    </tr>\n",
       "  </tbody>\n",
       "</table>\n",
       "</div>"
      ],
      "text/plain": [
       "   id keyword location                                               text  \\\n",
       "0   1     NaN      NaN  Our Deeds are the Reason of this #earthquake M...   \n",
       "1   4     NaN      NaN             Forest fire near La Ronge Sask. Canada   \n",
       "2   5     NaN      NaN  All residents asked to 'shelter in place' are ...   \n",
       "3   6     NaN      NaN  13,000 people receive #wildfires evacuation or...   \n",
       "4   7     NaN      NaN  Just got sent this photo from Ruby #Alaska as ...   \n",
       "\n",
       "   target  \n",
       "0       1  \n",
       "1       1  \n",
       "2       1  \n",
       "3       1  \n",
       "4       1  "
      ]
     },
     "execution_count": 189,
     "metadata": {},
     "output_type": "execute_result"
    }
   ],
   "source": [
    "#import test file\n",
    "test = pd.read_csv('https://raw.githubusercontent.com/kech3776/NLP-Disaster-Tweets/main/train.csv')\n",
    "test.head()"
   ]
  },
  {
   "cell_type": "code",
   "execution_count": 190,
   "id": "e31f5bb8",
   "metadata": {},
   "outputs": [
    {
     "data": {
      "text/html": [
       "<div>\n",
       "<style scoped>\n",
       "    .dataframe tbody tr th:only-of-type {\n",
       "        vertical-align: middle;\n",
       "    }\n",
       "\n",
       "    .dataframe tbody tr th {\n",
       "        vertical-align: top;\n",
       "    }\n",
       "\n",
       "    .dataframe thead th {\n",
       "        text-align: right;\n",
       "    }\n",
       "</style>\n",
       "<table border=\"1\" class=\"dataframe\">\n",
       "  <thead>\n",
       "    <tr style=\"text-align: right;\">\n",
       "      <th></th>\n",
       "      <th>id</th>\n",
       "      <th>text</th>\n",
       "      <th>target</th>\n",
       "      <th>Tokenized</th>\n",
       "      <th>SetLength</th>\n",
       "    </tr>\n",
       "  </thead>\n",
       "  <tbody>\n",
       "    <tr>\n",
       "      <th>0</th>\n",
       "      <td>1</td>\n",
       "      <td>Our Deeds are the Reason of this #earthquake M...</td>\n",
       "      <td>1</td>\n",
       "      <td>[deeds, reason, earthquake, may, allah, forgiv...</td>\n",
       "      <td>7</td>\n",
       "    </tr>\n",
       "    <tr>\n",
       "      <th>1</th>\n",
       "      <td>4</td>\n",
       "      <td>Forest fire near La Ronge Sask. Canada</td>\n",
       "      <td>1</td>\n",
       "      <td>[forest, fire, near, la, ronge, sask, canada]</td>\n",
       "      <td>7</td>\n",
       "    </tr>\n",
       "    <tr>\n",
       "      <th>2</th>\n",
       "      <td>5</td>\n",
       "      <td>All residents asked to 'shelter in place' are ...</td>\n",
       "      <td>1</td>\n",
       "      <td>[residents, ask, shelter, place, notify, offic...</td>\n",
       "      <td>11</td>\n",
       "    </tr>\n",
       "    <tr>\n",
       "      <th>3</th>\n",
       "      <td>6</td>\n",
       "      <td>13,000 people receive #wildfires evacuation or...</td>\n",
       "      <td>1</td>\n",
       "      <td>[people, receive, wildfires, evacuation, order...</td>\n",
       "      <td>6</td>\n",
       "    </tr>\n",
       "    <tr>\n",
       "      <th>4</th>\n",
       "      <td>7</td>\n",
       "      <td>Just got sent this photo from Ruby #Alaska as ...</td>\n",
       "      <td>1</td>\n",
       "      <td>[get, send, photo, ruby, alaska, smoke, wildfi...</td>\n",
       "      <td>9</td>\n",
       "    </tr>\n",
       "  </tbody>\n",
       "</table>\n",
       "</div>"
      ],
      "text/plain": [
       "   id                                               text  target  \\\n",
       "0   1  Our Deeds are the Reason of this #earthquake M...       1   \n",
       "1   4             Forest fire near La Ronge Sask. Canada       1   \n",
       "2   5  All residents asked to 'shelter in place' are ...       1   \n",
       "3   6  13,000 people receive #wildfires evacuation or...       1   \n",
       "4   7  Just got sent this photo from Ruby #Alaska as ...       1   \n",
       "\n",
       "                                           Tokenized  SetLength  \n",
       "0  [deeds, reason, earthquake, may, allah, forgiv...          7  \n",
       "1      [forest, fire, near, la, ronge, sask, canada]          7  \n",
       "2  [residents, ask, shelter, place, notify, offic...         11  \n",
       "3  [people, receive, wildfires, evacuation, order...          6  \n",
       "4  [get, send, photo, ruby, alaska, smoke, wildfi...          9  "
      ]
     },
     "execution_count": 190,
     "metadata": {},
     "output_type": "execute_result"
    }
   ],
   "source": [
    "#use NLTK to clean the text and remove unwanted columns\n",
    "test_clean = clean_data(test, 'text')\n",
    "test_clean = test_clean.drop(columns = ['keyword', 'location'])\n",
    "test_clean.head()"
   ]
  },
  {
   "cell_type": "code",
   "execution_count": 95,
   "id": "e7e580e7",
   "metadata": {},
   "outputs": [],
   "source": [
    "#turn words into a vector of numbers and pad the tweets\n",
    "X_test = test_clean['Tokenized'].to_numpy()\n",
    "X_test_seq = tokenizer.texts_to_sequences(X_test)\n",
    "X_test_padded = pad_sequences(X_test_seq, maxlen = 23, padding = \"post\", truncating = \"post\")"
   ]
  },
  {
   "cell_type": "code",
   "execution_count": 105,
   "id": "4df28691",
   "metadata": {},
   "outputs": [
    {
     "name": "stdout",
     "output_type": "stream",
     "text": [
      "102/102 [==============================] - 1s 3ms/step\n"
     ]
    }
   ],
   "source": [
    "yhat_lstm = lstm_model.predict(X_test_padded, verbose = 1)"
   ]
  },
  {
   "cell_type": "code",
   "execution_count": 115,
   "id": "0775d231",
   "metadata": {},
   "outputs": [
    {
     "name": "stdout",
     "output_type": "stream",
     "text": [
      "102/102 [==============================] - 1s 3ms/step\n"
     ]
    }
   ],
   "source": [
    "yhat_gru = gru_model.predict(X_test_padded, verbose = 1)"
   ]
  },
  {
   "cell_type": "code",
   "execution_count": 113,
   "id": "8cf85f61",
   "metadata": {},
   "outputs": [],
   "source": [
    "test_lstm = pd.DataFrame()\n",
    "test_lstm['id'] = test['id']\n",
    "#round prediction to a 1 or 0\n",
    "test_lstm['target'] = list(map(lambda x: 0 if x < 0.5 else 1, yhat_lstm))"
   ]
  },
  {
   "cell_type": "code",
   "execution_count": 114,
   "id": "b3bd560d",
   "metadata": {},
   "outputs": [],
   "source": [
    "test_lstm.to_csv('LSTM_prediction.csv', index = False)"
   ]
  },
  {
   "cell_type": "code",
   "execution_count": 117,
   "id": "8b63b960",
   "metadata": {},
   "outputs": [],
   "source": [
    "test_gru = pd.DataFrame()\n",
    "test_gru['id']  = test['id']\n",
    "test_gru['target'] = list(map(lambda x: 0 if x < 0.5 else 1, yhat_gru))"
   ]
  },
  {
   "cell_type": "code",
   "execution_count": 118,
   "id": "cb004477",
   "metadata": {},
   "outputs": [],
   "source": [
    "test_gru.to_csv('GRU_prediction.csv', index = False)"
   ]
  },
  {
   "cell_type": "markdown",
   "id": "36b53318",
   "metadata": {},
   "source": [
    "## Conclusion and Takeaways"
   ]
  },
  {
   "cell_type": "markdown",
   "id": "f2dac51c",
   "metadata": {},
   "source": [
    "After working through this mini-project, we were able to create a couple of Recurrent Neural Networks in the form of a LSMT model and a GRU model for natural language processing purposes. Towards the beginning of the project, there was considerable amount of text preprocessing. First we used NLTK libraries to clean the data. Then we used preprocessing libraries in Keras to ready the data for the neural networks. Building and tuning the hyperparameters of the neural networks came next. In building the LSTM and GRU models we modified the number of layers and multiple hyperparameters such as learning rate, dropout and recurring dropout. We even changed layers into bidirectional layers to help improve the training of the model.\n",
    "\n",
    "In the future, I would like to try a few more different methods. For the data preprocessing, I would try to reduce the total number of unique words used. Words that may only be used once or twice could be removed from the possible word pool. I would also consider decreasing the padding of the data from the largest possible tweet to a length closer to the median or mean length of a tweet. I would also experiment with other recurrent deep learning models to see if they have increased accuracy and/or reduced loss."
   ]
  },
  {
   "cell_type": "code",
   "execution_count": null,
   "id": "84a50570",
   "metadata": {},
   "outputs": [],
   "source": []
  }
 ],
 "metadata": {
  "kernelspec": {
   "display_name": "Python 3 (ipykernel)",
   "language": "python",
   "name": "python3"
  },
  "language_info": {
   "codemirror_mode": {
    "name": "ipython",
    "version": 3
   },
   "file_extension": ".py",
   "mimetype": "text/x-python",
   "name": "python",
   "nbconvert_exporter": "python",
   "pygments_lexer": "ipython3",
   "version": "3.9.16"
  }
 },
 "nbformat": 4,
 "nbformat_minor": 5
}
